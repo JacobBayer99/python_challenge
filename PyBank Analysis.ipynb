{
 "cells": [
  {
   "cell_type": "code",
   "execution_count": 2,
   "id": "d490bb81",
   "metadata": {},
   "outputs": [
    {
     "name": "stdout",
     "output_type": "stream",
     "text": [
      "Financial Analysis\n",
      "----------------------------\n",
      "Total Months: 86\n",
      "Total: $22564198\n",
      "Average Change: $262374.4\n",
      "Greatest Increase in Profits: Mar-13 ($1141840)\n",
      "Greatest Decrease in Profits: Dec-10 ($-1194133)\n"
     ]
    }
   ],
   "source": [
    "import os\n",
    "import csv\n",
    "\n",
    "\n",
    "numMonths = 0\n",
    "netPL = 0\n",
    "changePL = []\n",
    "maxIncrease = ['', 0]\n",
    "maxDecrease = ['', 0]\n",
    "\n",
    "\n",
    "csvPath = os.path.join('Resources', 'budget_data.csv')\n",
    "with open (csvPath, 'r') as csvFile:\n",
    "    csvReader = csv.reader(csvFile, delimiter = ',')\n",
    "    #Skip Headers\n",
    "    next(csvReader)\n",
    "\n",
    "    for row in csvReader:\n",
    "        numMonths += 1\n",
    "        netPL += int(row[1])\n",
    "        changePL.append(int(row[1]))\n",
    "        \n",
    "        if int(row[1]) > maxIncrease[1]:\n",
    "            maxIncrease[0] = row[0]\n",
    "            maxIncrease[1] = int(row[1])\n",
    "        elif int(row[1]) < maxDecrease[1]:\n",
    "            maxDecrease[0] = row[0]\n",
    "            maxDecrease[1] = int(row[1])\n",
    "\n",
    "\n",
    "print(\"Financial Analysis\")\n",
    "print(\"----------------------------\")\n",
    "print(f\"Total Months: {numMonths}\")\n",
    "print(f\"Total: ${netPL}\")\n",
    "print(f\"Average Change: ${round(sum(changePL) / len(changePL), 2)}\")\n",
    "print(f\"Greatest Increase in Profits: {maxIncrease[0]} (${maxIncrease[1]})\")\n",
    "print(f\"Greatest Decrease in Profits: {maxDecrease[0]} (${maxDecrease[1]})\")\n",
    "\n"
   ]
  },
  {
   "cell_type": "code",
   "execution_count": null,
   "id": "69cccec5",
   "metadata": {},
   "outputs": [],
   "source": []
  }
 ],
 "metadata": {
  "kernelspec": {
   "display_name": "Python 3 (ipykernel)",
   "language": "python",
   "name": "python3"
  },
  "language_info": {
   "codemirror_mode": {
    "name": "ipython",
    "version": 3
   },
   "file_extension": ".py",
   "mimetype": "text/x-python",
   "name": "python",
   "nbconvert_exporter": "python",
   "pygments_lexer": "ipython3",
   "version": "3.10.9"
  }
 },
 "nbformat": 4,
 "nbformat_minor": 5
}

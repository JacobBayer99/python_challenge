{
 "cells": [
  {
   "cell_type": "code",
   "execution_count": 1,
   "id": "e76d0c9d",
   "metadata": {},
   "outputs": [
    {
     "name": "stdout",
     "output_type": "stream",
     "text": [
      "Election Results\n",
      "-------------------------\n",
      "Total Votes: 369711\n",
      "-------------------------\n",
      "Charles Casper Stockham: 23.05% (85213)\n",
      "Diana DeGette: 73.81% (272892)\n",
      "Raymon Anthony Doane: 3.14% (11606)\n",
      "-------------------------\n",
      "Winner: Diana DeGette\n",
      "-------------------------\n"
     ]
    }
   ],
   "source": [
    "import os\n",
    "import csv\n",
    "\n",
    "#Variable Declaration\n",
    "canDict = {}\n",
    "\n",
    "#Open CSV File\n",
    "csvPath = os.path.join('Resources', 'election_data.csv')\n",
    "with open(csvPath, 'r') as csvFile:\n",
    "    csvReader = csv.reader(csvFile, delimiter = ',')\n",
    "    next(csvReader)\n",
    "\n",
    "    #Iterate through CSV\n",
    "    for row in csvReader:\n",
    "\n",
    "        #Add canidate/Increment vote count\n",
    "        if not (row[2] in canDict.keys()):\n",
    "            canDict.update({row[2]: 1})\n",
    "        else:\n",
    "            canDict[row[2]] += 1\n",
    "\n",
    "#Print Results\n",
    "print(\"Election Results\")\n",
    "print(\"-------------------------\")\n",
    "print(f\"Total Votes: {sum(canDict.values())}\")\n",
    "print(\"-------------------------\")\n",
    "#Print Each Canidate & Respective %\n",
    "for key in canDict:\n",
    "    print(f\"{key}: {round((canDict[key] / sum(canDict.values())) * 100, 2)}% ({canDict[key]})\")\n",
    "print(\"-------------------------\")\n",
    "print(f\"Winner: {max(canDict, key=canDict.get)}\")\n",
    "print(\"-------------------------\")"
   ]
  },
  {
   "cell_type": "code",
   "execution_count": null,
   "id": "d308e23d",
   "metadata": {},
   "outputs": [],
   "source": []
  }
 ],
 "metadata": {
  "kernelspec": {
   "display_name": "Python 3 (ipykernel)",
   "language": "python",
   "name": "python3"
  },
  "language_info": {
   "codemirror_mode": {
    "name": "ipython",
    "version": 3
   },
   "file_extension": ".py",
   "mimetype": "text/x-python",
   "name": "python",
   "nbconvert_exporter": "python",
   "pygments_lexer": "ipython3",
   "version": "3.10.9"
  }
 },
 "nbformat": 4,
 "nbformat_minor": 5
}
